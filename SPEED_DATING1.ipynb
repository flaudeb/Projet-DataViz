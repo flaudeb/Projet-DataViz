{
 "cells": [
  {
   "cell_type": "code",
   "execution_count": 1,
   "metadata": {},
   "outputs": [],
   "source": [
    "import numpy as np\n",
    "import numpy.random as npr\n",
    "import seaborn as sns\n",
    "import pandas as pd\n",
    "import matplotlib.pyplot as plt"
   ]
  },
  {
   "cell_type": "code",
   "execution_count": 2,
   "metadata": {},
   "outputs": [
    {
     "data": {
      "text/html": [
       "<div>\n",
       "<style scoped>\n",
       "    .dataframe tbody tr th:only-of-type {\n",
       "        vertical-align: middle;\n",
       "    }\n",
       "\n",
       "    .dataframe tbody tr th {\n",
       "        vertical-align: top;\n",
       "    }\n",
       "\n",
       "    .dataframe thead th {\n",
       "        text-align: right;\n",
       "    }\n",
       "</style>\n",
       "<table border=\"1\" class=\"dataframe\">\n",
       "  <thead>\n",
       "    <tr style=\"text-align: right;\">\n",
       "      <th></th>\n",
       "      <th>iid</th>\n",
       "      <th>id</th>\n",
       "      <th>gender</th>\n",
       "      <th>idg</th>\n",
       "      <th>condtn</th>\n",
       "      <th>wave</th>\n",
       "      <th>round</th>\n",
       "      <th>position</th>\n",
       "      <th>positin1</th>\n",
       "      <th>order</th>\n",
       "      <th>...</th>\n",
       "      <th>attr3_3</th>\n",
       "      <th>sinc3_3</th>\n",
       "      <th>intel3_3</th>\n",
       "      <th>fun3_3</th>\n",
       "      <th>amb3_3</th>\n",
       "      <th>attr5_3</th>\n",
       "      <th>sinc5_3</th>\n",
       "      <th>intel5_3</th>\n",
       "      <th>fun5_3</th>\n",
       "      <th>amb5_3</th>\n",
       "    </tr>\n",
       "  </thead>\n",
       "  <tbody>\n",
       "    <tr>\n",
       "      <th>0</th>\n",
       "      <td>1</td>\n",
       "      <td>1.0</td>\n",
       "      <td>0</td>\n",
       "      <td>1</td>\n",
       "      <td>1</td>\n",
       "      <td>1</td>\n",
       "      <td>10</td>\n",
       "      <td>7</td>\n",
       "      <td>NaN</td>\n",
       "      <td>4</td>\n",
       "      <td>...</td>\n",
       "      <td>5.0</td>\n",
       "      <td>7.0</td>\n",
       "      <td>7.0</td>\n",
       "      <td>7.0</td>\n",
       "      <td>7.0</td>\n",
       "      <td>NaN</td>\n",
       "      <td>NaN</td>\n",
       "      <td>NaN</td>\n",
       "      <td>NaN</td>\n",
       "      <td>NaN</td>\n",
       "    </tr>\n",
       "    <tr>\n",
       "      <th>1</th>\n",
       "      <td>1</td>\n",
       "      <td>1.0</td>\n",
       "      <td>0</td>\n",
       "      <td>1</td>\n",
       "      <td>1</td>\n",
       "      <td>1</td>\n",
       "      <td>10</td>\n",
       "      <td>7</td>\n",
       "      <td>NaN</td>\n",
       "      <td>3</td>\n",
       "      <td>...</td>\n",
       "      <td>5.0</td>\n",
       "      <td>7.0</td>\n",
       "      <td>7.0</td>\n",
       "      <td>7.0</td>\n",
       "      <td>7.0</td>\n",
       "      <td>NaN</td>\n",
       "      <td>NaN</td>\n",
       "      <td>NaN</td>\n",
       "      <td>NaN</td>\n",
       "      <td>NaN</td>\n",
       "    </tr>\n",
       "    <tr>\n",
       "      <th>2</th>\n",
       "      <td>1</td>\n",
       "      <td>1.0</td>\n",
       "      <td>0</td>\n",
       "      <td>1</td>\n",
       "      <td>1</td>\n",
       "      <td>1</td>\n",
       "      <td>10</td>\n",
       "      <td>7</td>\n",
       "      <td>NaN</td>\n",
       "      <td>10</td>\n",
       "      <td>...</td>\n",
       "      <td>5.0</td>\n",
       "      <td>7.0</td>\n",
       "      <td>7.0</td>\n",
       "      <td>7.0</td>\n",
       "      <td>7.0</td>\n",
       "      <td>NaN</td>\n",
       "      <td>NaN</td>\n",
       "      <td>NaN</td>\n",
       "      <td>NaN</td>\n",
       "      <td>NaN</td>\n",
       "    </tr>\n",
       "    <tr>\n",
       "      <th>3</th>\n",
       "      <td>1</td>\n",
       "      <td>1.0</td>\n",
       "      <td>0</td>\n",
       "      <td>1</td>\n",
       "      <td>1</td>\n",
       "      <td>1</td>\n",
       "      <td>10</td>\n",
       "      <td>7</td>\n",
       "      <td>NaN</td>\n",
       "      <td>5</td>\n",
       "      <td>...</td>\n",
       "      <td>5.0</td>\n",
       "      <td>7.0</td>\n",
       "      <td>7.0</td>\n",
       "      <td>7.0</td>\n",
       "      <td>7.0</td>\n",
       "      <td>NaN</td>\n",
       "      <td>NaN</td>\n",
       "      <td>NaN</td>\n",
       "      <td>NaN</td>\n",
       "      <td>NaN</td>\n",
       "    </tr>\n",
       "    <tr>\n",
       "      <th>4</th>\n",
       "      <td>1</td>\n",
       "      <td>1.0</td>\n",
       "      <td>0</td>\n",
       "      <td>1</td>\n",
       "      <td>1</td>\n",
       "      <td>1</td>\n",
       "      <td>10</td>\n",
       "      <td>7</td>\n",
       "      <td>NaN</td>\n",
       "      <td>7</td>\n",
       "      <td>...</td>\n",
       "      <td>5.0</td>\n",
       "      <td>7.0</td>\n",
       "      <td>7.0</td>\n",
       "      <td>7.0</td>\n",
       "      <td>7.0</td>\n",
       "      <td>NaN</td>\n",
       "      <td>NaN</td>\n",
       "      <td>NaN</td>\n",
       "      <td>NaN</td>\n",
       "      <td>NaN</td>\n",
       "    </tr>\n",
       "  </tbody>\n",
       "</table>\n",
       "<p>5 rows × 195 columns</p>\n",
       "</div>"
      ],
      "text/plain": [
       "   iid   id  gender  idg  condtn  wave  round  position  positin1  order  ...  \\\n",
       "0    1  1.0       0    1       1     1     10         7       NaN      4  ...   \n",
       "1    1  1.0       0    1       1     1     10         7       NaN      3  ...   \n",
       "2    1  1.0       0    1       1     1     10         7       NaN     10  ...   \n",
       "3    1  1.0       0    1       1     1     10         7       NaN      5  ...   \n",
       "4    1  1.0       0    1       1     1     10         7       NaN      7  ...   \n",
       "\n",
       "   attr3_3  sinc3_3  intel3_3  fun3_3  amb3_3  attr5_3  sinc5_3  intel5_3  \\\n",
       "0      5.0      7.0       7.0     7.0     7.0      NaN      NaN       NaN   \n",
       "1      5.0      7.0       7.0     7.0     7.0      NaN      NaN       NaN   \n",
       "2      5.0      7.0       7.0     7.0     7.0      NaN      NaN       NaN   \n",
       "3      5.0      7.0       7.0     7.0     7.0      NaN      NaN       NaN   \n",
       "4      5.0      7.0       7.0     7.0     7.0      NaN      NaN       NaN   \n",
       "\n",
       "   fun5_3  amb5_3  \n",
       "0     NaN     NaN  \n",
       "1     NaN     NaN  \n",
       "2     NaN     NaN  \n",
       "3     NaN     NaN  \n",
       "4     NaN     NaN  \n",
       "\n",
       "[5 rows x 195 columns]"
      ]
     },
     "execution_count": 2,
     "metadata": {},
     "output_type": "execute_result"
    }
   ],
   "source": [
    "data = pd.read_csv('Speed Dating Data.csv', encoding=\"ISO-8859-1\")\n",
    "data.head()"
   ]
  },
  {
   "cell_type": "code",
   "execution_count": 3,
   "metadata": {},
   "outputs": [
    {
     "name": "stdout",
     "output_type": "stream",
     "text": [
      "<class 'pandas.core.frame.DataFrame'>\n",
      "RangeIndex: 8378 entries, 0 to 8377\n",
      "Columns: 195 entries, iid to amb5_3\n",
      "dtypes: float64(174), int64(13), object(8)\n",
      "memory usage: 12.5+ MB\n"
     ]
    }
   ],
   "source": [
    "data.info()"
   ]
  },
  {
   "cell_type": "code",
   "execution_count": 4,
   "metadata": {},
   "outputs": [
    {
     "data": {
      "text/plain": [
       "Index(['iid', 'id', 'gender', 'idg', 'condtn', 'wave', 'round', 'position',\n",
       "       'positin1', 'order',\n",
       "       ...\n",
       "       'attr3_3', 'sinc3_3', 'intel3_3', 'fun3_3', 'amb3_3', 'attr5_3',\n",
       "       'sinc5_3', 'intel5_3', 'fun5_3', 'amb5_3'],\n",
       "      dtype='object', length=195)"
      ]
     },
     "execution_count": 4,
     "metadata": {},
     "output_type": "execute_result"
    }
   ],
   "source": [
    "data.columns"
   ]
  },
  {
   "cell_type": "markdown",
   "metadata": {},
   "source": [
    "### Visualisations"
   ]
  },
  {
   "cell_type": "code",
   "execution_count": 5,
   "metadata": {},
   "outputs": [
    {
     "data": {
      "text/plain": [
       "<matplotlib.axes._subplots.AxesSubplot at 0x1d836ef6f48>"
      ]
     },
     "execution_count": 5,
     "metadata": {},
     "output_type": "execute_result"
    },
    {
     "data": {
      "image/png": "[encoded data removed]",
      "text/plain": [
       "<Figure size 1440x720 with 1 Axes>"
      ]
     },
     "metadata": {
      "needs_background": "light"
     },
     "output_type": "display_data"
    }
   ],
   "source": [
    "# Equilibre Hommes / Femmes\n",
    "\n",
    "data['gender'] = data.gender.map({1 : 'Male', 0 : 'Female'})\n",
    "plt.subplots(figsize=(20,10))\n",
    "sns.countplot(x =data['gender'], data = data)"
   ]
  },
  {
   "cell_type": "markdown",
   "metadata": {},
   "source": [
    "On peut remarquer qu'il y a autant des femmes que des hommes. Ce qui peut faciliter la comparaison."
   ]
  },
  {
   "cell_type": "code",
   "execution_count": 28,
   "metadata": {},
   "outputs": [
    {
     "data": {
      "text/plain": [
       "<seaborn.axisgrid.FacetGrid at 0x1d83798d988>"
      ]
     },
     "execution_count": 28,
     "metadata": {},
     "output_type": "execute_result"
    },
    {
     "data": {
      "image/png": "[encoded data removed]",
      "text/plain": [
       "<Figure size 432x288 with 1 Axes>"
      ]
     },
     "metadata": {
      "needs_background": "light"
     },
     "output_type": "display_data"
    },
    {
     "data": {
      "image/png": "[encoded data removed]",
      "text/plain": [
       "<Figure size 360x360 with 1 Axes>"
      ]
     },
     "metadata": {
      "needs_background": "light"
     },
     "output_type": "display_data"
    },
    {
     "data": {
      "image/png": "[encoded data removed]",
      "text/plain": [
       "<Figure size 418.125x360 with 1 Axes>"
      ]
     },
     "metadata": {
      "needs_background": "light"
     },
     "output_type": "display_data"
    }
   ],
   "source": [
    "# La distribution d'âge \n",
    "\n",
    "data['age'].isnull().any()\n",
    "data.loc[:,'age'] = data['age'].fillna(data['age'].median())\n",
    "\n",
    "sns.distplot(data['age'], bins = 20)\n",
    "sns.catplot(x='gender', y= 'age', data = data, kind = 'box',showmeans=True,meanline=True)\n",
    "\n",
    "\n",
    "# La distribution d'âge par sex\n",
    "\n",
    "sns.catplot(x='gender', y= 'age', data = data, hue = 'attr')"
   ]
  },
  {
   "cell_type": "code",
   "execution_count": null,
   "metadata": {},
   "outputs": [],
   "source": []
  },
  {
   "cell_type": "code",
   "execution_count": 15,
   "metadata": {
    "scrolled": true
   },
   "outputs": [
    {
     "data": {
      "text/plain": [
       "<seaborn.axisgrid.FacetGrid at 0x1d838920948>"
      ]
     },
     "execution_count": 15,
     "metadata": {},
     "output_type": "execute_result"
    },
    {
     "data": {
      "image/png": "[encoded data removed]",
      "text/plain": [
       "<Figure size 360x360 with 1 Axes>"
      ]
     },
     "metadata": {
      "needs_background": "light"
     },
     "output_type": "display_data"
    }
   ],
   "source": [
    "sns.catplot(x=\"gender\", y=\"match\", kind=\"bar\", data= data)"
   ]
  },
  {
   "cell_type": "code",
   "execution_count": 34,
   "metadata": {},
   "outputs": [
    {
     "data": {
      "text/plain": [
       "<seaborn.axisgrid.FacetGrid at 0x1d83fa81d08>"
      ]
     },
     "execution_count": 34,
     "metadata": {},
     "output_type": "execute_result"
    },
    {
     "data": {
      "text/plain": [
       "<Figure size 648x576 with 0 Axes>"
      ]
     },
     "metadata": {},
     "output_type": "display_data"
    },
    {
     "data": {
      "image/png": "[encoded data removed]",
      "text/plain": [
       "<Figure size 360x360 with 1 Axes>"
      ]
     },
     "metadata": {
      "needs_background": "light"
     },
     "output_type": "display_data"
    }
   ],
   "source": [
    "plt.figure(figsize=(9,8))\n",
    "sns.catplot(x=\"age\", y=\"match\", kind=\"bar\", data= data)"
   ]
  },
  {
   "cell_type": "code",
   "execution_count": 18,
   "metadata": {},
   "outputs": [
    {
     "data": {
      "text/plain": [
       "<seaborn.axisgrid.FacetGrid at 0x1d838911f48>"
      ]
     },
     "execution_count": 18,
     "metadata": {},
     "output_type": "execute_result"
    },
    {
     "data": {
      "image/png": "[encoded data removed]",
      "text/plain": [
       "<Figure size 360x360 with 1 Axes>"
      ]
     },
     "metadata": {
      "needs_background": "light"
     },
     "output_type": "display_data"
    }
   ],
   "source": [
    "sns.lmplot(x=\"age\", y=\"match\", data=data, logistic=True)"
   ]
  },
  {
   "cell_type": "code",
   "execution_count": 57,
   "metadata": {},
   "outputs": [],
   "source": [
    "# Regardons maintenant les attributs qui influencent les décisions de partenaires\n",
    "# On regarde le niveau de représentativité de chaque attribut\n",
    "\n",
    "atribut1 = data[['attr1_1', 'sinc1_1','intel1_1','fun1_1','amb1_1','shar1_1']].mean()\n",
    "cols = ['Attractive','Sincere','Intelligente','Fun','Ambituous','Shared Interests']\n",
    "atribut1.columns = cols\n",
    "explode = (0.6, 0, 0.6, 0, 0,0)"
   ]
  },
  {
   "cell_type": "code",
   "execution_count": 58,
   "metadata": {},
   "outputs": [
    {
     "data": {
      "text/plain": [
       "([<matplotlib.patches.Wedge at 0x1d84880b1c8>,\n",
       "  <matplotlib.patches.Wedge at 0x1d84880bc88>,\n",
       "  <matplotlib.patches.Wedge at 0x1d8488198c8>,\n",
       "  <matplotlib.patches.Wedge at 0x1d8487f0588>,\n",
       "  <matplotlib.patches.Wedge at 0x1d8487e2448>,\n",
       "  <matplotlib.patches.Wedge at 0x1d8487e90c8>],\n",
       " [Text(1.2934401210422417, 1.1031829645522229, 'Attractive'),\n",
       "  Text(-0.4153616772262156, 1.0185650087705866, 'Sincere'),\n",
       "  Text(-1.6999954619026225, 0.003928041559006448, 'Intelligente'),\n",
       "  Text(-0.41812944108710315, -1.0174319488281203, 'Fun'),\n",
       "  Text(0.5202912766176515, -0.9691733526441875, 'Ambituous'),\n",
       "  Text(1.0249520472256484, -0.39934108339607727, 'Shared Interests')],\n",
       " [Text(0.9130165560298176, 0.7787173867427456, '22.5%'),\n",
       "  Text(-0.22656091485066301, 0.5555809138748654, '17.4%'),\n",
       "  Text(-1.1999967966371452, 0.002772735218122199, '20.2%'),\n",
       "  Text(-0.22807060422932895, -0.5549628811789746, '17.4%'),\n",
       "  Text(0.2837952417914463, -0.5286400105331931, '10.7%'),\n",
       "  Text(0.5590647530321717, -0.21782240912513304, '11.8%')])"
      ]
     },
     "execution_count": 58,
     "metadata": {},
     "output_type": "execute_result"
    },
    {
     "data": {
      "image/png": "[encoded data removed]",
      "text/plain": [
       "<Figure size 576x432 with 1 Axes>"
      ]
     },
     "metadata": {},
     "output_type": "display_data"
    }
   ],
   "source": [
    "plt.figure(figsize = (8,6))\n",
    "plt.pie(atribut1, labels=cols, explode = explode, autopct='%1.1f%%', shadow=True, startangle=0)"
   ]
  },
  {
   "cell_type": "code",
   "execution_count": 70,
   "metadata": {},
   "outputs": [
    {
     "data": {
      "text/plain": [
       "<seaborn.axisgrid.FacetGrid at 0x1d84ad787c8>"
      ]
     },
     "execution_count": 70,
     "metadata": {},
     "output_type": "execute_result"
    },
    {
     "data": {
      "image/png": "[encoded data removed]",
      "text/plain": [
       "<Figure size 360x360 with 1 Axes>"
      ]
     },
     "metadata": {
      "needs_background": "light"
     },
     "output_type": "display_data"
    },
    {
     "data": {
      "image/png": "[encoded data removed]",
      "text/plain": [
       "<Figure size 360x360 with 1 Axes>"
      ]
     },
     "metadata": {
      "needs_background": "light"
     },
     "output_type": "display_data"
    },
    {
     "data": {
      "image/png": "[encoded data removed]",
      "text/plain": [
       "<Figure size 360x360 with 1 Axes>"
      ]
     },
     "metadata": {
      "needs_background": "light"
     },
     "output_type": "display_data"
    },
    {
     "data": {
      "image/png": "[encoded data removed]",
      "text/plain": [
       "<Figure size 360x360 with 1 Axes>"
      ]
     },
     "metadata": {
      "needs_background": "light"
     },
     "output_type": "display_data"
    },
    {
     "data": {
      "image/png": "[encoded data removed]",
      "text/plain": [
       "<Figure size 360x360 with 1 Axes>"
      ]
     },
     "metadata": {
      "needs_background": "light"
     },
     "output_type": "display_data"
    },
    {
     "data": {
      "image/png": "[encoded data removed]",
      "text/plain": [
       "<Figure size 360x360 with 1 Axes>"
      ]
     },
     "metadata": {
      "needs_background": "light"
     },
     "output_type": "display_data"
    }
   ],
   "source": [
    "sns.catplot(x=\"gender\", y=\"attr1_1\", kind=\"bar\", data= data)\n",
    "sns.catplot(x=\"gender\", y=\"intel1_1\", kind=\"bar\", data= data)\n",
    "sns.catplot(x=\"gender\", y=\"sinc1_1\", kind=\"bar\", data= data)\n",
    "sns.catplot(x=\"gender\", y=\"fun1_1\", kind=\"bar\", data= data)\n",
    "sns.catplot(x=\"gender\", y=\"amb1_1\", kind=\"bar\", data= data)\n",
    "sns.catplot(x=\"gender\", y=\"shar1_1\", kind=\"bar\", data= data)"
   ]
  },
  {
   "cell_type": "code",
   "execution_count": 79,
   "metadata": {},
   "outputs": [
    {
     "data": {
      "text/plain": [
       "([<matplotlib.patches.Wedge at 0x1d848600c08>,\n",
       "  <matplotlib.patches.Wedge at 0x1d8486005c8>,\n",
       "  <matplotlib.patches.Wedge at 0x1d848612288>,\n",
       "  <matplotlib.patches.Wedge at 0x1d8485e1348>,\n",
       "  <matplotlib.patches.Wedge at 0x1d8485b71c8>,\n",
       "  <matplotlib.patches.Wedge at 0x1d8485caa88>],\n",
       " [Text(1.2934401210422417, 1.1031829645522229, 'Attractive'),\n",
       "  Text(-0.4153616772262156, 1.0185650087705866, 'Sincere'),\n",
       "  Text(-1.6999954619026225, 0.003928041559006448, 'Intelligente'),\n",
       "  Text(-0.41812944108710315, -1.0174319488281203, 'Fun'),\n",
       "  Text(0.5202912766176515, -0.9691733526441875, 'Ambituous'),\n",
       "  Text(1.0249520472256484, -0.39934108339607727, 'Shared Interests')],\n",
       " [Text(0.9130165560298176, 0.7787173867427456, '22.5%'),\n",
       "  Text(-0.22656091485066301, 0.5555809138748654, '17.4%'),\n",
       "  Text(-1.1999967966371452, 0.002772735218122199, '20.2%'),\n",
       "  Text(-0.22807060422932895, -0.5549628811789746, '17.4%'),\n",
       "  Text(0.2837952417914463, -0.5286400105331931, '10.7%'),\n",
       "  Text(0.5590647530321717, -0.21782240912513304, '11.8%')])"
      ]
     },
     "execution_count": 79,
     "metadata": {},
     "output_type": "execute_result"
    },
    {
     "data": {
      "image/png": "[encoded data removed]",
      "text/plain": [
       "<Figure size 576x432 with 1 Axes>"
      ]
     },
     "metadata": {},
     "output_type": "display_data"
    }
   ],
   "source": [
    "atribut2 = data[['attr2_1', 'sinc2_1','intel2_1','fun2_1','amb2_1','shar2_1']].mean()\n",
    "cols = ['Attractive','Sincere','Intelligente','Fun','Ambituous','Shared Interests']\n",
    "atribut1.columns = cols\n",
    "explode = (0.6, 0, 0.6, 0, 0,0)\n",
    "\n",
    "plt.figure(figsize = (8,6))\n",
    "plt.pie(atribut1, labels=cols, explode = explode, autopct='%1.1f%%', shadow=True, startangle=0)"
   ]
  },
  {
   "cell_type": "code",
   "execution_count": 74,
   "metadata": {},
   "outputs": [
    {
     "data": {
      "text/plain": [
       "<seaborn.axisgrid.FacetGrid at 0x1d849b76208>"
      ]
     },
     "execution_count": 74,
     "metadata": {},
     "output_type": "execute_result"
    },
    {
     "data": {
      "image/png": "[encoded data removed]",
      "text/plain": [
       "<Figure size 360x360 with 1 Axes>"
      ]
     },
     "metadata": {
      "needs_background": "light"
     },
     "output_type": "display_data"
    },
    {
     "data": {
      "image/png": "[encoded data removed]",
      "text/plain": [
       "<Figure size 360x360 with 1 Axes>"
      ]
     },
     "metadata": {
      "needs_background": "light"
     },
     "output_type": "display_data"
    },
    {
     "data": {
      "image/png": "[encoded data removed]",
      "text/plain": [
       "<Figure size 360x360 with 1 Axes>"
      ]
     },
     "metadata": {
      "needs_background": "light"
     },
     "output_type": "display_data"
    },
    {
     "data": {
      "image/png": "[encoded data removed]",
      "text/plain": [
       "<Figure size 360x360 with 1 Axes>"
      ]
     },
     "metadata": {
      "needs_background": "light"
     },
     "output_type": "display_data"
    },
    {
     "data": {
      "image/png": "[encoded data removed]",
      "text/plain": [
       "<Figure size 360x360 with 1 Axes>"
      ]
     },
     "metadata": {
      "needs_background": "light"
     },
     "output_type": "display_data"
    },
    {
     "data": {
      "image/png": "[encoded data removed]",
      "text/plain": [
       "<Figure size 360x360 with 1 Axes>"
      ]
     },
     "metadata": {
      "needs_background": "light"
     },
     "output_type": "display_data"
    }
   ],
   "source": [
    "sns.catplot(x=\"gender\", y=\"attr2_1\", kind=\"bar\", data= data)\n",
    "sns.catplot(x=\"gender\", y=\"intel2_1\", kind=\"bar\", data= data)\n",
    "sns.catplot(x=\"gender\", y=\"sinc2_1\", kind=\"bar\", data= data)\n",
    "sns.catplot(x=\"gender\", y=\"fun2_1\", kind=\"bar\", data= data)\n",
    "sns.catplot(x=\"gender\", y=\"amb2_1\", kind=\"bar\", data= data)\n",
    "sns.catplot(x=\"gender\", y=\"shar2_1\", kind=\"bar\", data= data)"
   ]
  },
  {
   "cell_type": "code",
   "execution_count": null,
   "metadata": {},
   "outputs": [],
   "source": []
  },
  {
   "cell_type": "code",
   "execution_count": null,
   "metadata": {},
   "outputs": [],
   "source": []
  },
  {
   "cell_type": "code",
   "execution_count": null,
   "metadata": {},
   "outputs": [],
   "source": []
  },
  {
   "cell_type": "code",
   "execution_count": null,
   "metadata": {},
   "outputs": [],
   "source": []
  },
  {
   "cell_type": "code",
   "execution_count": null,
   "metadata": {},
   "outputs": [],
   "source": []
  },
  {
   "cell_type": "code",
   "execution_count": null,
   "metadata": {},
   "outputs": [],
   "source": []
  },
  {
   "cell_type": "code",
   "execution_count": null,
   "metadata": {},
   "outputs": [],
   "source": []
  },
  {
   "cell_type": "code",
   "execution_count": null,
   "metadata": {},
   "outputs": [],
   "source": []
  },
  {
   "cell_type": "code",
   "execution_count": null,
   "metadata": {},
   "outputs": [],
   "source": []
  },
  {
   "cell_type": "code",
   "execution_count": null,
   "metadata": {},
   "outputs": [],
   "source": []
  },
  {
   "cell_type": "code",
   "execution_count": 80,
   "metadata": {},
   "outputs": [
    {
     "data": {
      "text/html": [
       "<div>\n",
       "<style scoped>\n",
       "    .dataframe tbody tr th:only-of-type {\n",
       "        vertical-align: middle;\n",
       "    }\n",
       "\n",
       "    .dataframe tbody tr th {\n",
       "        vertical-align: top;\n",
       "    }\n",
       "\n",
       "    .dataframe thead th {\n",
       "        text-align: right;\n",
       "    }\n",
       "</style>\n",
       "<table border=\"1\" class=\"dataframe\">\n",
       "  <thead>\n",
       "    <tr style=\"text-align: right;\">\n",
       "      <th></th>\n",
       "      <th>gender</th>\n",
       "      <th>idg</th>\n",
       "      <th>condtn</th>\n",
       "      <th>wave</th>\n",
       "      <th>round</th>\n",
       "      <th>position</th>\n",
       "      <th>positin1</th>\n",
       "      <th>order</th>\n",
       "      <th>partner</th>\n",
       "      <th>pid</th>\n",
       "      <th>...</th>\n",
       "      <th>like_o</th>\n",
       "      <th>prob_o</th>\n",
       "      <th>met_o</th>\n",
       "      <th>age</th>\n",
       "      <th>field</th>\n",
       "      <th>field_cd</th>\n",
       "      <th>undergra</th>\n",
       "      <th>mn_sat</th>\n",
       "      <th>tuition</th>\n",
       "      <th>race</th>\n",
       "    </tr>\n",
       "  </thead>\n",
       "  <tbody>\n",
       "    <tr>\n",
       "      <th>0</th>\n",
       "      <td>Female</td>\n",
       "      <td>1</td>\n",
       "      <td>1</td>\n",
       "      <td>1</td>\n",
       "      <td>10</td>\n",
       "      <td>7</td>\n",
       "      <td>NaN</td>\n",
       "      <td>4</td>\n",
       "      <td>1</td>\n",
       "      <td>11.0</td>\n",
       "      <td>...</td>\n",
       "      <td>7.0</td>\n",
       "      <td>4.0</td>\n",
       "      <td>2.0</td>\n",
       "      <td>21.0</td>\n",
       "      <td>Law</td>\n",
       "      <td>1.0</td>\n",
       "      <td>NaN</td>\n",
       "      <td>NaN</td>\n",
       "      <td>NaN</td>\n",
       "      <td>4.0</td>\n",
       "    </tr>\n",
       "    <tr>\n",
       "      <th>1</th>\n",
       "      <td>Female</td>\n",
       "      <td>1</td>\n",
       "      <td>1</td>\n",
       "      <td>1</td>\n",
       "      <td>10</td>\n",
       "      <td>7</td>\n",
       "      <td>NaN</td>\n",
       "      <td>3</td>\n",
       "      <td>2</td>\n",
       "      <td>12.0</td>\n",
       "      <td>...</td>\n",
       "      <td>8.0</td>\n",
       "      <td>4.0</td>\n",
       "      <td>2.0</td>\n",
       "      <td>21.0</td>\n",
       "      <td>Law</td>\n",
       "      <td>1.0</td>\n",
       "      <td>NaN</td>\n",
       "      <td>NaN</td>\n",
       "      <td>NaN</td>\n",
       "      <td>4.0</td>\n",
       "    </tr>\n",
       "    <tr>\n",
       "      <th>2</th>\n",
       "      <td>Female</td>\n",
       "      <td>1</td>\n",
       "      <td>1</td>\n",
       "      <td>1</td>\n",
       "      <td>10</td>\n",
       "      <td>7</td>\n",
       "      <td>NaN</td>\n",
       "      <td>10</td>\n",
       "      <td>3</td>\n",
       "      <td>13.0</td>\n",
       "      <td>...</td>\n",
       "      <td>10.0</td>\n",
       "      <td>10.0</td>\n",
       "      <td>1.0</td>\n",
       "      <td>21.0</td>\n",
       "      <td>Law</td>\n",
       "      <td>1.0</td>\n",
       "      <td>NaN</td>\n",
       "      <td>NaN</td>\n",
       "      <td>NaN</td>\n",
       "      <td>4.0</td>\n",
       "    </tr>\n",
       "    <tr>\n",
       "      <th>3</th>\n",
       "      <td>Female</td>\n",
       "      <td>1</td>\n",
       "      <td>1</td>\n",
       "      <td>1</td>\n",
       "      <td>10</td>\n",
       "      <td>7</td>\n",
       "      <td>NaN</td>\n",
       "      <td>5</td>\n",
       "      <td>4</td>\n",
       "      <td>14.0</td>\n",
       "      <td>...</td>\n",
       "      <td>7.0</td>\n",
       "      <td>7.0</td>\n",
       "      <td>2.0</td>\n",
       "      <td>21.0</td>\n",
       "      <td>Law</td>\n",
       "      <td>1.0</td>\n",
       "      <td>NaN</td>\n",
       "      <td>NaN</td>\n",
       "      <td>NaN</td>\n",
       "      <td>4.0</td>\n",
       "    </tr>\n",
       "    <tr>\n",
       "      <th>4</th>\n",
       "      <td>Female</td>\n",
       "      <td>1</td>\n",
       "      <td>1</td>\n",
       "      <td>1</td>\n",
       "      <td>10</td>\n",
       "      <td>7</td>\n",
       "      <td>NaN</td>\n",
       "      <td>7</td>\n",
       "      <td>5</td>\n",
       "      <td>15.0</td>\n",
       "      <td>...</td>\n",
       "      <td>8.0</td>\n",
       "      <td>6.0</td>\n",
       "      <td>2.0</td>\n",
       "      <td>21.0</td>\n",
       "      <td>Law</td>\n",
       "      <td>1.0</td>\n",
       "      <td>NaN</td>\n",
       "      <td>NaN</td>\n",
       "      <td>NaN</td>\n",
       "      <td>4.0</td>\n",
       "    </tr>\n",
       "  </tbody>\n",
       "</table>\n",
       "<p>5 rows × 38 columns</p>\n",
       "</div>"
      ],
      "text/plain": [
       "   gender  idg  condtn  wave  round  position  positin1  order  partner   pid  \\\n",
       "0  Female    1       1     1     10         7       NaN      4        1  11.0   \n",
       "1  Female    1       1     1     10         7       NaN      3        2  12.0   \n",
       "2  Female    1       1     1     10         7       NaN     10        3  13.0   \n",
       "3  Female    1       1     1     10         7       NaN      5        4  14.0   \n",
       "4  Female    1       1     1     10         7       NaN      7        5  15.0   \n",
       "\n",
       "   ...  like_o  prob_o  met_o   age  field  field_cd  undergra  mn_sat  \\\n",
       "0  ...     7.0     4.0    2.0  21.0    Law       1.0       NaN     NaN   \n",
       "1  ...     8.0     4.0    2.0  21.0    Law       1.0       NaN     NaN   \n",
       "2  ...    10.0    10.0    1.0  21.0    Law       1.0       NaN     NaN   \n",
       "3  ...     7.0     7.0    2.0  21.0    Law       1.0       NaN     NaN   \n",
       "4  ...     8.0     6.0    2.0  21.0    Law       1.0       NaN     NaN   \n",
       "\n",
       "   tuition  race  \n",
       "0      NaN   4.0  \n",
       "1      NaN   4.0  \n",
       "2      NaN   4.0  \n",
       "3      NaN   4.0  \n",
       "4      NaN   4.0  \n",
       "\n",
       "[5 rows x 38 columns]"
      ]
     },
     "execution_count": 80,
     "metadata": {},
     "output_type": "execute_result"
    }
   ],
   "source": [
    "data1 = data.iloc[:, 2:40]\n",
    "data1.head()"
   ]
  },
  {
   "cell_type": "code",
   "execution_count": 3,
   "metadata": {},
   "outputs": [
    {
     "name": "stdout",
     "output_type": "stream",
     "text": [
      "<class 'pandas.core.frame.DataFrame'>\n",
      "RangeIndex: 8378 entries, 0 to 8377\n",
      "Columns: 195 entries, iid to amb5_3\n",
      "dtypes: float64(174), int64(13), object(8)\n",
      "memory usage: 12.5+ MB\n"
     ]
    }
   ],
   "source": [
    "data.info()"
   ]
  },
  {
   "cell_type": "code",
   "execution_count": 4,
   "metadata": {},
   "outputs": [
    {
     "data": {
      "text/plain": [
       "(8378, 195)"
      ]
     },
     "execution_count": 4,
     "metadata": {},
     "output_type": "execute_result"
    }
   ],
   "source": [
    "data.shape"
   ]
  },
  {
   "cell_type": "code",
   "execution_count": 5,
   "metadata": {},
   "outputs": [
    {
     "data": {
      "text/html": [
       "<div>\n",
       "<style scoped>\n",
       "    .dataframe tbody tr th:only-of-type {\n",
       "        vertical-align: middle;\n",
       "    }\n",
       "\n",
       "    .dataframe tbody tr th {\n",
       "        vertical-align: top;\n",
       "    }\n",
       "\n",
       "    .dataframe thead th {\n",
       "        text-align: right;\n",
       "    }\n",
       "</style>\n",
       "<table border=\"1\" class=\"dataframe\">\n",
       "  <thead>\n",
       "    <tr style=\"text-align: right;\">\n",
       "      <th></th>\n",
       "      <th>iid</th>\n",
       "      <th>id</th>\n",
       "      <th>gender</th>\n",
       "      <th>idg</th>\n",
       "      <th>condtn</th>\n",
       "      <th>wave</th>\n",
       "      <th>round</th>\n",
       "      <th>position</th>\n",
       "      <th>positin1</th>\n",
       "      <th>order</th>\n",
       "      <th>...</th>\n",
       "      <th>attr3_3</th>\n",
       "      <th>sinc3_3</th>\n",
       "      <th>intel3_3</th>\n",
       "      <th>fun3_3</th>\n",
       "      <th>amb3_3</th>\n",
       "      <th>attr5_3</th>\n",
       "      <th>sinc5_3</th>\n",
       "      <th>intel5_3</th>\n",
       "      <th>fun5_3</th>\n",
       "      <th>amb5_3</th>\n",
       "    </tr>\n",
       "  </thead>\n",
       "  <tbody>\n",
       "    <tr>\n",
       "      <th>count</th>\n",
       "      <td>8378.000000</td>\n",
       "      <td>8377.000000</td>\n",
       "      <td>8378.000000</td>\n",
       "      <td>8378.000000</td>\n",
       "      <td>8378.000000</td>\n",
       "      <td>8378.000000</td>\n",
       "      <td>8378.000000</td>\n",
       "      <td>8378.000000</td>\n",
       "      <td>6532.000000</td>\n",
       "      <td>8378.000000</td>\n",
       "      <td>...</td>\n",
       "      <td>3974.000000</td>\n",
       "      <td>3974.000000</td>\n",
       "      <td>3974.000000</td>\n",
       "      <td>3974.000000</td>\n",
       "      <td>3974.000000</td>\n",
       "      <td>2016.000000</td>\n",
       "      <td>2016.000000</td>\n",
       "      <td>2016.000000</td>\n",
       "      <td>2016.000000</td>\n",
       "      <td>2016.000000</td>\n",
       "    </tr>\n",
       "    <tr>\n",
       "      <th>unique</th>\n",
       "      <td>NaN</td>\n",
       "      <td>NaN</td>\n",
       "      <td>NaN</td>\n",
       "      <td>NaN</td>\n",
       "      <td>NaN</td>\n",
       "      <td>NaN</td>\n",
       "      <td>NaN</td>\n",
       "      <td>NaN</td>\n",
       "      <td>NaN</td>\n",
       "      <td>NaN</td>\n",
       "      <td>...</td>\n",
       "      <td>NaN</td>\n",
       "      <td>NaN</td>\n",
       "      <td>NaN</td>\n",
       "      <td>NaN</td>\n",
       "      <td>NaN</td>\n",
       "      <td>NaN</td>\n",
       "      <td>NaN</td>\n",
       "      <td>NaN</td>\n",
       "      <td>NaN</td>\n",
       "      <td>NaN</td>\n",
       "    </tr>\n",
       "    <tr>\n",
       "      <th>top</th>\n",
       "      <td>NaN</td>\n",
       "      <td>NaN</td>\n",
       "      <td>NaN</td>\n",
       "      <td>NaN</td>\n",
       "      <td>NaN</td>\n",
       "      <td>NaN</td>\n",
       "      <td>NaN</td>\n",
       "      <td>NaN</td>\n",
       "      <td>NaN</td>\n",
       "      <td>NaN</td>\n",
       "      <td>...</td>\n",
       "      <td>NaN</td>\n",
       "      <td>NaN</td>\n",
       "      <td>NaN</td>\n",
       "      <td>NaN</td>\n",
       "      <td>NaN</td>\n",
       "      <td>NaN</td>\n",
       "      <td>NaN</td>\n",
       "      <td>NaN</td>\n",
       "      <td>NaN</td>\n",
       "      <td>NaN</td>\n",
       "    </tr>\n",
       "    <tr>\n",
       "      <th>freq</th>\n",
       "      <td>NaN</td>\n",
       "      <td>NaN</td>\n",
       "      <td>NaN</td>\n",
       "      <td>NaN</td>\n",
       "      <td>NaN</td>\n",
       "      <td>NaN</td>\n",
       "      <td>NaN</td>\n",
       "      <td>NaN</td>\n",
       "      <td>NaN</td>\n",
       "      <td>NaN</td>\n",
       "      <td>...</td>\n",
       "      <td>NaN</td>\n",
       "      <td>NaN</td>\n",
       "      <td>NaN</td>\n",
       "      <td>NaN</td>\n",
       "      <td>NaN</td>\n",
       "      <td>NaN</td>\n",
       "      <td>NaN</td>\n",
       "      <td>NaN</td>\n",
       "      <td>NaN</td>\n",
       "      <td>NaN</td>\n",
       "    </tr>\n",
       "    <tr>\n",
       "      <th>mean</th>\n",
       "      <td>283.675937</td>\n",
       "      <td>8.960248</td>\n",
       "      <td>0.500597</td>\n",
       "      <td>17.327166</td>\n",
       "      <td>1.828837</td>\n",
       "      <td>11.350919</td>\n",
       "      <td>16.872046</td>\n",
       "      <td>9.042731</td>\n",
       "      <td>9.295775</td>\n",
       "      <td>8.927668</td>\n",
       "      <td>...</td>\n",
       "      <td>7.240312</td>\n",
       "      <td>8.093357</td>\n",
       "      <td>8.388777</td>\n",
       "      <td>7.658782</td>\n",
       "      <td>7.391545</td>\n",
       "      <td>6.810020</td>\n",
       "      <td>7.615079</td>\n",
       "      <td>7.932540</td>\n",
       "      <td>7.155258</td>\n",
       "      <td>7.048611</td>\n",
       "    </tr>\n",
       "    <tr>\n",
       "      <th>std</th>\n",
       "      <td>158.583367</td>\n",
       "      <td>5.491329</td>\n",
       "      <td>0.500029</td>\n",
       "      <td>10.940735</td>\n",
       "      <td>0.376673</td>\n",
       "      <td>5.995903</td>\n",
       "      <td>4.358458</td>\n",
       "      <td>5.514939</td>\n",
       "      <td>5.650199</td>\n",
       "      <td>5.477009</td>\n",
       "      <td>...</td>\n",
       "      <td>1.576596</td>\n",
       "      <td>1.610309</td>\n",
       "      <td>1.459094</td>\n",
       "      <td>1.744670</td>\n",
       "      <td>1.961417</td>\n",
       "      <td>1.507341</td>\n",
       "      <td>1.504551</td>\n",
       "      <td>1.340868</td>\n",
       "      <td>1.672787</td>\n",
       "      <td>1.717988</td>\n",
       "    </tr>\n",
       "    <tr>\n",
       "      <th>min</th>\n",
       "      <td>1.000000</td>\n",
       "      <td>1.000000</td>\n",
       "      <td>0.000000</td>\n",
       "      <td>1.000000</td>\n",
       "      <td>1.000000</td>\n",
       "      <td>1.000000</td>\n",
       "      <td>5.000000</td>\n",
       "      <td>1.000000</td>\n",
       "      <td>1.000000</td>\n",
       "      <td>1.000000</td>\n",
       "      <td>...</td>\n",
       "      <td>2.000000</td>\n",
       "      <td>2.000000</td>\n",
       "      <td>3.000000</td>\n",
       "      <td>2.000000</td>\n",
       "      <td>1.000000</td>\n",
       "      <td>2.000000</td>\n",
       "      <td>2.000000</td>\n",
       "      <td>4.000000</td>\n",
       "      <td>1.000000</td>\n",
       "      <td>1.000000</td>\n",
       "    </tr>\n",
       "    <tr>\n",
       "      <th>25%</th>\n",
       "      <td>154.000000</td>\n",
       "      <td>4.000000</td>\n",
       "      <td>0.000000</td>\n",
       "      <td>8.000000</td>\n",
       "      <td>2.000000</td>\n",
       "      <td>7.000000</td>\n",
       "      <td>14.000000</td>\n",
       "      <td>4.000000</td>\n",
       "      <td>4.000000</td>\n",
       "      <td>4.000000</td>\n",
       "      <td>...</td>\n",
       "      <td>7.000000</td>\n",
       "      <td>7.000000</td>\n",
       "      <td>8.000000</td>\n",
       "      <td>7.000000</td>\n",
       "      <td>6.000000</td>\n",
       "      <td>6.000000</td>\n",
       "      <td>7.000000</td>\n",
       "      <td>7.000000</td>\n",
       "      <td>6.000000</td>\n",
       "      <td>6.000000</td>\n",
       "    </tr>\n",
       "    <tr>\n",
       "      <th>50%</th>\n",
       "      <td>281.000000</td>\n",
       "      <td>8.000000</td>\n",
       "      <td>1.000000</td>\n",
       "      <td>16.000000</td>\n",
       "      <td>2.000000</td>\n",
       "      <td>11.000000</td>\n",
       "      <td>18.000000</td>\n",
       "      <td>8.000000</td>\n",
       "      <td>9.000000</td>\n",
       "      <td>8.000000</td>\n",
       "      <td>...</td>\n",
       "      <td>7.000000</td>\n",
       "      <td>8.000000</td>\n",
       "      <td>8.000000</td>\n",
       "      <td>8.000000</td>\n",
       "      <td>8.000000</td>\n",
       "      <td>7.000000</td>\n",
       "      <td>8.000000</td>\n",
       "      <td>8.000000</td>\n",
       "      <td>7.000000</td>\n",
       "      <td>7.000000</td>\n",
       "    </tr>\n",
       "    <tr>\n",
       "      <th>75%</th>\n",
       "      <td>407.000000</td>\n",
       "      <td>13.000000</td>\n",
       "      <td>1.000000</td>\n",
       "      <td>26.000000</td>\n",
       "      <td>2.000000</td>\n",
       "      <td>15.000000</td>\n",
       "      <td>20.000000</td>\n",
       "      <td>13.000000</td>\n",
       "      <td>14.000000</td>\n",
       "      <td>13.000000</td>\n",
       "      <td>...</td>\n",
       "      <td>8.000000</td>\n",
       "      <td>9.000000</td>\n",
       "      <td>9.000000</td>\n",
       "      <td>9.000000</td>\n",
       "      <td>9.000000</td>\n",
       "      <td>8.000000</td>\n",
       "      <td>9.000000</td>\n",
       "      <td>9.000000</td>\n",
       "      <td>8.000000</td>\n",
       "      <td>8.000000</td>\n",
       "    </tr>\n",
       "    <tr>\n",
       "      <th>max</th>\n",
       "      <td>552.000000</td>\n",
       "      <td>22.000000</td>\n",
       "      <td>1.000000</td>\n",
       "      <td>44.000000</td>\n",
       "      <td>2.000000</td>\n",
       "      <td>21.000000</td>\n",
       "      <td>22.000000</td>\n",
       "      <td>22.000000</td>\n",
       "      <td>22.000000</td>\n",
       "      <td>22.000000</td>\n",
       "      <td>...</td>\n",
       "      <td>12.000000</td>\n",
       "      <td>12.000000</td>\n",
       "      <td>12.000000</td>\n",
       "      <td>12.000000</td>\n",
       "      <td>12.000000</td>\n",
       "      <td>10.000000</td>\n",
       "      <td>10.000000</td>\n",
       "      <td>10.000000</td>\n",
       "      <td>10.000000</td>\n",
       "      <td>10.000000</td>\n",
       "    </tr>\n",
       "  </tbody>\n",
       "</table>\n",
       "<p>11 rows × 195 columns</p>\n",
       "</div>"
      ],
      "text/plain": [
       "                iid           id       gender          idg       condtn  \\\n",
       "count   8378.000000  8377.000000  8378.000000  8378.000000  8378.000000   \n",
       "unique          NaN          NaN          NaN          NaN          NaN   \n",
       "top             NaN          NaN          NaN          NaN          NaN   \n",
       "freq            NaN          NaN          NaN          NaN          NaN   \n",
       "mean     283.675937     8.960248     0.500597    17.327166     1.828837   \n",
       "std      158.583367     5.491329     0.500029    10.940735     0.376673   \n",
       "min        1.000000     1.000000     0.000000     1.000000     1.000000   \n",
       "25%      154.000000     4.000000     0.000000     8.000000     2.000000   \n",
       "50%      281.000000     8.000000     1.000000    16.000000     2.000000   \n",
       "75%      407.000000    13.000000     1.000000    26.000000     2.000000   \n",
       "max      552.000000    22.000000     1.000000    44.000000     2.000000   \n",
       "\n",
       "               wave        round     position     positin1        order  ...  \\\n",
       "count   8378.000000  8378.000000  8378.000000  6532.000000  8378.000000  ...   \n",
       "unique          NaN          NaN          NaN          NaN          NaN  ...   \n",
       "top             NaN          NaN          NaN          NaN          NaN  ...   \n",
       "freq            NaN          NaN          NaN          NaN          NaN  ...   \n",
       "mean      11.350919    16.872046     9.042731     9.295775     8.927668  ...   \n",
       "std        5.995903     4.358458     5.514939     5.650199     5.477009  ...   \n",
       "min        1.000000     5.000000     1.000000     1.000000     1.000000  ...   \n",
       "25%        7.000000    14.000000     4.000000     4.000000     4.000000  ...   \n",
       "50%       11.000000    18.000000     8.000000     9.000000     8.000000  ...   \n",
       "75%       15.000000    20.000000    13.000000    14.000000    13.000000  ...   \n",
       "max       21.000000    22.000000    22.000000    22.000000    22.000000  ...   \n",
       "\n",
       "            attr3_3      sinc3_3     intel3_3       fun3_3       amb3_3  \\\n",
       "count   3974.000000  3974.000000  3974.000000  3974.000000  3974.000000   \n",
       "unique          NaN          NaN          NaN          NaN          NaN   \n",
       "top             NaN          NaN          NaN          NaN          NaN   \n",
       "freq            NaN          NaN          NaN          NaN          NaN   \n",
       "mean       7.240312     8.093357     8.388777     7.658782     7.391545   \n",
       "std        1.576596     1.610309     1.459094     1.744670     1.961417   \n",
       "min        2.000000     2.000000     3.000000     2.000000     1.000000   \n",
       "25%        7.000000     7.000000     8.000000     7.000000     6.000000   \n",
       "50%        7.000000     8.000000     8.000000     8.000000     8.000000   \n",
       "75%        8.000000     9.000000     9.000000     9.000000     9.000000   \n",
       "max       12.000000    12.000000    12.000000    12.000000    12.000000   \n",
       "\n",
       "            attr5_3      sinc5_3     intel5_3       fun5_3       amb5_3  \n",
       "count   2016.000000  2016.000000  2016.000000  2016.000000  2016.000000  \n",
       "unique          NaN          NaN          NaN          NaN          NaN  \n",
       "top             NaN          NaN          NaN          NaN          NaN  \n",
       "freq            NaN          NaN          NaN          NaN          NaN  \n",
       "mean       6.810020     7.615079     7.932540     7.155258     7.048611  \n",
       "std        1.507341     1.504551     1.340868     1.672787     1.717988  \n",
       "min        2.000000     2.000000     4.000000     1.000000     1.000000  \n",
       "25%        6.000000     7.000000     7.000000     6.000000     6.000000  \n",
       "50%        7.000000     8.000000     8.000000     7.000000     7.000000  \n",
       "75%        8.000000     9.000000     9.000000     8.000000     8.000000  \n",
       "max       10.000000    10.000000    10.000000    10.000000    10.000000  \n",
       "\n",
       "[11 rows x 195 columns]"
      ]
     },
     "execution_count": 5,
     "metadata": {},
     "output_type": "execute_result"
    }
   ],
   "source": [
    "data.describe(include ='all')"
   ]
  },
  {
   "cell_type": "code",
   "execution_count": 47,
   "metadata": {},
   "outputs": [
    {
     "data": {
      "text/plain": [
       "Index(['iid', 'id', 'gender', 'idg', 'condtn', 'wave', 'round', 'position',\n",
       "       'positin1', 'order',\n",
       "       ...\n",
       "       'attr3_3', 'sinc3_3', 'intel3_3', 'fun3_3', 'amb3_3', 'attr5_3',\n",
       "       'sinc5_3', 'intel5_3', 'fun5_3', 'amb5_3'],\n",
       "      dtype='object', length=195)"
      ]
     },
     "execution_count": 47,
     "metadata": {},
     "output_type": "execute_result"
    }
   ],
   "source": [
    "data.columns"
   ]
  },
  {
   "cell_type": "code",
   "execution_count": 36,
   "metadata": {},
   "outputs": [
    {
     "data": {
      "text/plain": [
       "iid         False\n",
       "id           True\n",
       "gender      False\n",
       "idg         False\n",
       "condtn      False\n",
       "wave        False\n",
       "round       False\n",
       "position    False\n",
       "positin1     True\n",
       "order       False\n",
       "partner     False\n",
       "pid          True\n",
       "match       False\n",
       "int_corr     True\n",
       "samerace    False\n",
       "age_o        True\n",
       "race_o       True\n",
       "pf_o_att     True\n",
       "pf_o_sin     True\n",
       "pf_o_int     True\n",
       "pf_o_fun     True\n",
       "pf_o_amb     True\n",
       "pf_o_sha     True\n",
       "dec_o       False\n",
       "attr_o       True\n",
       "sinc_o       True\n",
       "intel_o      True\n",
       "fun_o        True\n",
       "amb_o        True\n",
       "shar_o       True\n",
       "like_o       True\n",
       "prob_o       True\n",
       "met_o        True\n",
       "age          True\n",
       "field        True\n",
       "field_cd     True\n",
       "undergra     True\n",
       "mn_sat       True\n",
       "tuition      True\n",
       "race         True\n",
       "imprace      True\n",
       "imprelig     True\n",
       "from         True\n",
       "zipcode      True\n",
       "income       True\n",
       "goal         True\n",
       "date         True\n",
       "go_out       True\n",
       "career       True\n",
       "career_c     True\n",
       "sports       True\n",
       "tvsports     True\n",
       "exercise     True\n",
       "dining       True\n",
       "museums      True\n",
       "art          True\n",
       "hiking       True\n",
       "gaming       True\n",
       "clubbing     True\n",
       "reading      True\n",
       "tv           True\n",
       "theater      True\n",
       "movies       True\n",
       "concerts     True\n",
       "music        True\n",
       "shopping     True\n",
       "yoga         True\n",
       "exphappy     True\n",
       "expnum       True\n",
       "attr1_1      True\n",
       "sinc1_1      True\n",
       "intel1_1     True\n",
       "fun1_1       True\n",
       "amb1_1       True\n",
       "shar1_1      True\n",
       "attr4_1      True\n",
       "sinc4_1      True\n",
       "intel4_1     True\n",
       "fun4_1       True\n",
       "amb4_1       True\n",
       "shar4_1      True\n",
       "attr2_1      True\n",
       "sinc2_1      True\n",
       "intel2_1     True\n",
       "fun2_1       True\n",
       "amb2_1       True\n",
       "shar2_1      True\n",
       "attr3_1      True\n",
       "sinc3_1      True\n",
       "fun3_1       True\n",
       "intel3_1     True\n",
       "amb3_1       True\n",
       "attr5_1      True\n",
       "sinc5_1      True\n",
       "intel5_1     True\n",
       "fun5_1       True\n",
       "amb5_1       True\n",
       "dec         False\n",
       "attr         True\n",
       "sinc         True\n",
       "intel        True\n",
       "fun          True\n",
       "amb          True\n",
       "shar         True\n",
       "like         True\n",
       "prob         True\n",
       "met          True\n",
       "match_es     True\n",
       "attr1_s      True\n",
       "sinc1_s      True\n",
       "intel1_s     True\n",
       "fun1_s       True\n",
       "amb1_s       True\n",
       "shar1_s      True\n",
       "attr3_s      True\n",
       "sinc3_s      True\n",
       "intel3_s     True\n",
       "fun3_s       True\n",
       "amb3_s       True\n",
       "satis_2      True\n",
       "length       True\n",
       "numdat_2     True\n",
       "attr7_2      True\n",
       "sinc7_2      True\n",
       "intel7_2     True\n",
       "fun7_2       True\n",
       "amb7_2       True\n",
       "shar7_2      True\n",
       "attr1_2      True\n",
       "sinc1_2      True\n",
       "intel1_2     True\n",
       "fun1_2       True\n",
       "amb1_2       True\n",
       "shar1_2      True\n",
       "attr4_2      True\n",
       "sinc4_2      True\n",
       "intel4_2     True\n",
       "fun4_2       True\n",
       "amb4_2       True\n",
       "shar4_2      True\n",
       "attr2_2      True\n",
       "sinc2_2      True\n",
       "intel2_2     True\n",
       "fun2_2       True\n",
       "amb2_2       True\n",
       "shar2_2      True\n",
       "attr3_2      True\n",
       "sinc3_2      True\n",
       "intel3_2     True\n",
       "fun3_2       True\n",
       "amb3_2       True\n",
       "attr5_2      True\n",
       "sinc5_2      True\n",
       "intel5_2     True\n",
       "fun5_2       True\n",
       "amb5_2       True\n",
       "you_call     True\n",
       "them_cal     True\n",
       "date_3       True\n",
       "numdat_3     True\n",
       "num_in_3     True\n",
       "attr1_3      True\n",
       "sinc1_3      True\n",
       "intel1_3     True\n",
       "fun1_3       True\n",
       "amb1_3       True\n",
       "shar1_3      True\n",
       "attr7_3      True\n",
       "sinc7_3      True\n",
       "intel7_3     True\n",
       "fun7_3       True\n",
       "amb7_3       True\n",
       "shar7_3      True\n",
       "attr4_3      True\n",
       "sinc4_3      True\n",
       "intel4_3     True\n",
       "fun4_3       True\n",
       "amb4_3       True\n",
       "shar4_3      True\n",
       "attr2_3      True\n",
       "sinc2_3      True\n",
       "intel2_3     True\n",
       "fun2_3       True\n",
       "amb2_3       True\n",
       "shar2_3      True\n",
       "attr3_3      True\n",
       "sinc3_3      True\n",
       "intel3_3     True\n",
       "fun3_3       True\n",
       "amb3_3       True\n",
       "attr5_3      True\n",
       "sinc5_3      True\n",
       "intel5_3     True\n",
       "fun5_3       True\n",
       "amb5_3       True\n",
       "dtype: bool"
      ]
     },
     "execution_count": 36,
     "metadata": {},
     "output_type": "execute_result"
    }
   ],
   "source": [
    "data.isnull().any()"
   ]
  },
  {
   "cell_type": "code",
   "execution_count": 38,
   "metadata": {},
   "outputs": [
    {
     "data": {
      "text/plain": [
       "iid          0.000000\n",
       "id           0.011936\n",
       "gender       0.000000\n",
       "idg          0.000000\n",
       "condtn       0.000000\n",
       "wave         0.000000\n",
       "round        0.000000\n",
       "position     0.000000\n",
       "positin1    22.033898\n",
       "order        0.000000\n",
       "partner      0.000000\n",
       "pid          0.119360\n",
       "match        0.000000\n",
       "int_corr     1.885892\n",
       "samerace     0.000000\n",
       "age_o        1.241346\n",
       "race_o       0.871330\n",
       "pf_o_att     1.062306\n",
       "pf_o_sin     1.062306\n",
       "pf_o_int     1.062306\n",
       "pf_o_fun     1.169730\n",
       "pf_o_amb     1.277154\n",
       "pf_o_sha     1.539747\n",
       "dec_o        0.000000\n",
       "attr_o       2.530437\n",
       "sinc_o       3.425639\n",
       "intel_o      3.652423\n",
       "fun_o        4.296968\n",
       "amb_o        8.617809\n",
       "shar_o      12.843161\n",
       "like_o       2.984006\n",
       "prob_o       3.795655\n",
       "met_o        4.595369\n",
       "age          1.133922\n",
       "field        0.751969\n",
       "field_cd     0.978754\n",
       "undergra    41.346383\n",
       "mn_sat      62.604440\n",
       "tuition     57.233230\n",
       "race         0.751969\n",
       "imprace      0.942946\n",
       "imprelig     0.942946\n",
       "from         0.942946\n",
       "zipcode     12.699928\n",
       "income      48.925758\n",
       "goal         0.942946\n",
       "date         1.157794\n",
       "go_out       0.942946\n",
       "career       1.062306\n",
       "career_c     1.647171\n",
       "sports       0.942946\n",
       "tvsports     0.942946\n",
       "exercise     0.942946\n",
       "dining       0.942946\n",
       "museums      0.942946\n",
       "art          0.942946\n",
       "hiking       0.942946\n",
       "gaming       0.942946\n",
       "clubbing     0.942946\n",
       "reading      0.942946\n",
       "tv           0.942946\n",
       "theater      0.942946\n",
       "movies       0.942946\n",
       "concerts     0.942946\n",
       "music        0.942946\n",
       "shopping     0.942946\n",
       "yoga         0.942946\n",
       "exphappy     1.205538\n",
       "expnum      78.515159\n",
       "attr1_1      0.942946\n",
       "sinc1_1      0.942946\n",
       "intel1_1     0.942946\n",
       "fun1_1       1.062306\n",
       "amb1_1       1.181666\n",
       "shar1_1      1.444259\n",
       "attr4_1     22.547147\n",
       "sinc4_1     22.547147\n",
       "intel4_1    22.547147\n",
       "fun4_1      22.547147\n",
       "amb4_1      22.547147\n",
       "shar4_1     22.809740\n",
       "attr2_1      0.942946\n",
       "sinc2_1      0.942946\n",
       "intel2_1     0.942946\n",
       "fun2_1       0.942946\n",
       "amb2_1       1.062306\n",
       "shar2_1      1.062306\n",
       "attr3_1      1.253282\n",
       "sinc3_1      1.253282\n",
       "fun3_1       1.253282\n",
       "intel3_1     1.253282\n",
       "amb3_1       1.253282\n",
       "attr5_1     41.441872\n",
       "sinc5_1     41.441872\n",
       "intel5_1    41.441872\n",
       "fun5_1      41.441872\n",
       "amb5_1      41.441872\n",
       "dec          0.000000\n",
       "attr         2.411077\n",
       "sinc         3.306278\n",
       "intel        3.533063\n",
       "fun          4.177608\n",
       "amb          8.498448\n",
       "shar        12.735736\n",
       "like         2.864646\n",
       "prob         3.688231\n",
       "met          4.476009\n",
       "match_es    14.000955\n",
       "attr1_s     51.110050\n",
       "sinc1_s     51.110050\n",
       "intel1_s    51.110050\n",
       "fun1_s      51.110050\n",
       "amb1_s      51.110050\n",
       "shar1_s     51.110050\n",
       "attr3_s     52.255908\n",
       "sinc3_s     52.255908\n",
       "intel3_s    52.255908\n",
       "fun3_s      52.255908\n",
       "amb3_s      52.255908\n",
       "satis_2     10.921461\n",
       "length      10.921461\n",
       "numdat_2    11.279542\n",
       "attr7_2     76.318931\n",
       "sinc7_2     76.665075\n",
       "intel7_2    76.318931\n",
       "fun7_2      76.318931\n",
       "amb7_2      76.665075\n",
       "shar7_2     76.438291\n",
       "attr1_2     11.136309\n",
       "sinc1_2     10.921461\n",
       "intel1_2    10.921461\n",
       "fun1_2      10.921461\n",
       "amb1_2      10.921461\n",
       "shar1_2     10.921461\n",
       "attr4_2     31.069468\n",
       "sinc4_2     31.069468\n",
       "intel4_2    31.069468\n",
       "fun4_2      31.069468\n",
       "amb4_2      31.069468\n",
       "shar4_2     31.069468\n",
       "attr2_2     31.069468\n",
       "sinc2_2     31.069468\n",
       "intel2_2    31.069468\n",
       "fun2_2      31.069468\n",
       "amb2_2      31.069468\n",
       "shar2_2     31.069468\n",
       "attr3_2     10.921461\n",
       "sinc3_2     10.921461\n",
       "intel3_2    10.921461\n",
       "fun3_2      10.921461\n",
       "amb3_2      10.921461\n",
       "attr5_2     47.756028\n",
       "sinc5_2     47.756028\n",
       "intel5_2    47.756028\n",
       "fun5_2      47.756028\n",
       "amb5_2      47.756028\n",
       "you_call    52.566245\n",
       "them_cal    52.566245\n",
       "date_3      52.566245\n",
       "numdat_3    82.143710\n",
       "num_in_3    92.026737\n",
       "attr1_3     52.566245\n",
       "sinc1_3     52.566245\n",
       "intel1_3    52.566245\n",
       "fun1_3      52.566245\n",
       "amb1_3      52.566245\n",
       "shar1_3     52.566245\n",
       "attr7_3     75.936978\n",
       "sinc7_3     75.936978\n",
       "intel7_3    75.936978\n",
       "fun7_3      75.936978\n",
       "amb7_3      75.936978\n",
       "shar7_3     75.936978\n",
       "attr4_3     64.681308\n",
       "sinc4_3     64.681308\n",
       "intel4_3    64.681308\n",
       "fun4_3      64.681308\n",
       "amb4_3      64.681308\n",
       "shar4_3     64.681308\n",
       "attr2_3     64.681308\n",
       "sinc2_3     64.681308\n",
       "intel2_3    64.681308\n",
       "fun2_3      64.681308\n",
       "amb2_3      64.681308\n",
       "shar2_3     75.936978\n",
       "attr3_3     52.566245\n",
       "sinc3_3     52.566245\n",
       "intel3_3    52.566245\n",
       "fun3_3      52.566245\n",
       "amb3_3      52.566245\n",
       "attr5_3     75.936978\n",
       "sinc5_3     75.936978\n",
       "intel5_3    75.936978\n",
       "fun5_3      75.936978\n",
       "amb5_3      75.936978\n",
       "dtype: float64"
      ]
     },
     "execution_count": 38,
     "metadata": {},
     "output_type": "execute_result"
    }
   ],
   "source": [
    "100 * data.isnull().sum()/len(data)"
   ]
  },
  {
   "cell_type": "code",
   "execution_count": 48,
   "metadata": {},
   "outputs": [],
   "source": [
    "data = data.drop(['undergra','mn_sat','tuition'], axis=1)"
   ]
  },
  {
   "cell_type": "markdown",
   "metadata": {},
   "source": [
    "## Observations des variables les plus corrélées"
   ]
  },
  {
   "cell_type": "code",
   "execution_count": 7,
   "metadata": {},
   "outputs": [
    {
     "data": {
      "text/html": [
       "<div>\n",
       "<style scoped>\n",
       "    .dataframe tbody tr th:only-of-type {\n",
       "        vertical-align: middle;\n",
       "    }\n",
       "\n",
       "    .dataframe tbody tr th {\n",
       "        vertical-align: top;\n",
       "    }\n",
       "\n",
       "    .dataframe thead th {\n",
       "        text-align: right;\n",
       "    }\n",
       "</style>\n",
       "<table border=\"1\" class=\"dataframe\">\n",
       "  <thead>\n",
       "    <tr style=\"text-align: right;\">\n",
       "      <th></th>\n",
       "      <th>iid</th>\n",
       "      <th>id</th>\n",
       "      <th>gender</th>\n",
       "      <th>idg</th>\n",
       "      <th>condtn</th>\n",
       "      <th>wave</th>\n",
       "      <th>round</th>\n",
       "      <th>position</th>\n",
       "      <th>positin1</th>\n",
       "      <th>order</th>\n",
       "      <th>...</th>\n",
       "      <th>attr3_3</th>\n",
       "      <th>sinc3_3</th>\n",
       "      <th>intel3_3</th>\n",
       "      <th>fun3_3</th>\n",
       "      <th>amb3_3</th>\n",
       "      <th>attr5_3</th>\n",
       "      <th>sinc5_3</th>\n",
       "      <th>intel5_3</th>\n",
       "      <th>fun5_3</th>\n",
       "      <th>amb5_3</th>\n",
       "    </tr>\n",
       "  </thead>\n",
       "  <tbody>\n",
       "    <tr>\n",
       "      <th>iid</th>\n",
       "      <td>1.000000</td>\n",
       "      <td>0.117109</td>\n",
       "      <td>0.051937</td>\n",
       "      <td>0.120362</td>\n",
       "      <td>0.220413</td>\n",
       "      <td>0.996713</td>\n",
       "      <td>0.231881</td>\n",
       "      <td>0.081287</td>\n",
       "      <td>0.070443</td>\n",
       "      <td>0.090696</td>\n",
       "      <td>...</td>\n",
       "      <td>-0.003738</td>\n",
       "      <td>-0.005157</td>\n",
       "      <td>-0.117348</td>\n",
       "      <td>0.039944</td>\n",
       "      <td>-0.020409</td>\n",
       "      <td>0.092325</td>\n",
       "      <td>-0.053698</td>\n",
       "      <td>0.006949</td>\n",
       "      <td>0.100164</td>\n",
       "      <td>0.055229</td>\n",
       "    </tr>\n",
       "    <tr>\n",
       "      <th>id</th>\n",
       "      <td>0.117109</td>\n",
       "      <td>1.000000</td>\n",
       "      <td>-0.011623</td>\n",
       "      <td>0.998029</td>\n",
       "      <td>0.318768</td>\n",
       "      <td>0.091571</td>\n",
       "      <td>0.374462</td>\n",
       "      <td>0.168382</td>\n",
       "      <td>0.174008</td>\n",
       "      <td>0.149216</td>\n",
       "      <td>...</td>\n",
       "      <td>0.024213</td>\n",
       "      <td>-0.041815</td>\n",
       "      <td>-0.051621</td>\n",
       "      <td>-0.029917</td>\n",
       "      <td>0.010202</td>\n",
       "      <td>-0.018183</td>\n",
       "      <td>-0.007993</td>\n",
       "      <td>-0.088398</td>\n",
       "      <td>-0.046558</td>\n",
       "      <td>-0.119108</td>\n",
       "    </tr>\n",
       "    <tr>\n",
       "      <th>gender</th>\n",
       "      <td>0.051937</td>\n",
       "      <td>-0.011623</td>\n",
       "      <td>1.000000</td>\n",
       "      <td>0.033645</td>\n",
       "      <td>-0.002627</td>\n",
       "      <td>-0.001264</td>\n",
       "      <td>0.020630</td>\n",
       "      <td>-0.001091</td>\n",
       "      <td>0.005853</td>\n",
       "      <td>0.006685</td>\n",
       "      <td>...</td>\n",
       "      <td>-0.125433</td>\n",
       "      <td>-0.159709</td>\n",
       "      <td>0.023925</td>\n",
       "      <td>-0.144642</td>\n",
       "      <td>-0.058300</td>\n",
       "      <td>-0.103692</td>\n",
       "      <td>-0.289694</td>\n",
       "      <td>0.076538</td>\n",
       "      <td>-0.067432</td>\n",
       "      <td>0.055267</td>\n",
       "    </tr>\n",
       "    <tr>\n",
       "      <th>idg</th>\n",
       "      <td>0.120362</td>\n",
       "      <td>0.998029</td>\n",
       "      <td>0.033645</td>\n",
       "      <td>1.000000</td>\n",
       "      <td>0.324838</td>\n",
       "      <td>0.092645</td>\n",
       "      <td>0.387715</td>\n",
       "      <td>0.171495</td>\n",
       "      <td>0.177639</td>\n",
       "      <td>0.154691</td>\n",
       "      <td>...</td>\n",
       "      <td>0.020597</td>\n",
       "      <td>-0.051671</td>\n",
       "      <td>-0.051081</td>\n",
       "      <td>-0.036368</td>\n",
       "      <td>0.007404</td>\n",
       "      <td>-0.020785</td>\n",
       "      <td>-0.022967</td>\n",
       "      <td>-0.086071</td>\n",
       "      <td>-0.050316</td>\n",
       "      <td>-0.118940</td>\n",
       "    </tr>\n",
       "    <tr>\n",
       "      <th>condtn</th>\n",
       "      <td>0.220413</td>\n",
       "      <td>0.318768</td>\n",
       "      <td>-0.002627</td>\n",
       "      <td>0.324838</td>\n",
       "      <td>1.000000</td>\n",
       "      <td>0.219627</td>\n",
       "      <td>0.816316</td>\n",
       "      <td>0.329120</td>\n",
       "      <td>0.308641</td>\n",
       "      <td>0.324108</td>\n",
       "      <td>...</td>\n",
       "      <td>0.082965</td>\n",
       "      <td>0.034376</td>\n",
       "      <td>0.067836</td>\n",
       "      <td>0.066229</td>\n",
       "      <td>0.023614</td>\n",
       "      <td>0.068552</td>\n",
       "      <td>-0.063407</td>\n",
       "      <td>0.068622</td>\n",
       "      <td>0.114254</td>\n",
       "      <td>0.145598</td>\n",
       "    </tr>\n",
       "    <tr>\n",
       "      <th>...</th>\n",
       "      <td>...</td>\n",
       "      <td>...</td>\n",
       "      <td>...</td>\n",
       "      <td>...</td>\n",
       "      <td>...</td>\n",
       "      <td>...</td>\n",
       "      <td>...</td>\n",
       "      <td>...</td>\n",
       "      <td>...</td>\n",
       "      <td>...</td>\n",
       "      <td>...</td>\n",
       "      <td>...</td>\n",
       "      <td>...</td>\n",
       "      <td>...</td>\n",
       "      <td>...</td>\n",
       "      <td>...</td>\n",
       "      <td>...</td>\n",
       "      <td>...</td>\n",
       "      <td>...</td>\n",
       "      <td>...</td>\n",
       "      <td>...</td>\n",
       "    </tr>\n",
       "    <tr>\n",
       "      <th>attr5_3</th>\n",
       "      <td>0.092325</td>\n",
       "      <td>-0.018183</td>\n",
       "      <td>-0.103692</td>\n",
       "      <td>-0.020785</td>\n",
       "      <td>0.068552</td>\n",
       "      <td>0.092906</td>\n",
       "      <td>0.025047</td>\n",
       "      <td>0.073360</td>\n",
       "      <td>0.201356</td>\n",
       "      <td>0.009776</td>\n",
       "      <td>...</td>\n",
       "      <td>0.851922</td>\n",
       "      <td>0.177047</td>\n",
       "      <td>0.444624</td>\n",
       "      <td>0.400945</td>\n",
       "      <td>0.222258</td>\n",
       "      <td>1.000000</td>\n",
       "      <td>0.197948</td>\n",
       "      <td>0.378176</td>\n",
       "      <td>0.406725</td>\n",
       "      <td>0.205368</td>\n",
       "    </tr>\n",
       "    <tr>\n",
       "      <th>sinc5_3</th>\n",
       "      <td>-0.053698</td>\n",
       "      <td>-0.007993</td>\n",
       "      <td>-0.289694</td>\n",
       "      <td>-0.022967</td>\n",
       "      <td>-0.063407</td>\n",
       "      <td>-0.028111</td>\n",
       "      <td>-0.027437</td>\n",
       "      <td>0.099616</td>\n",
       "      <td>0.102406</td>\n",
       "      <td>-0.010260</td>\n",
       "      <td>...</td>\n",
       "      <td>0.222731</td>\n",
       "      <td>0.614853</td>\n",
       "      <td>0.313755</td>\n",
       "      <td>0.184837</td>\n",
       "      <td>0.130029</td>\n",
       "      <td>0.197948</td>\n",
       "      <td>1.000000</td>\n",
       "      <td>0.505440</td>\n",
       "      <td>0.331171</td>\n",
       "      <td>0.268553</td>\n",
       "    </tr>\n",
       "    <tr>\n",
       "      <th>intel5_3</th>\n",
       "      <td>0.006949</td>\n",
       "      <td>-0.088398</td>\n",
       "      <td>0.076538</td>\n",
       "      <td>-0.086071</td>\n",
       "      <td>0.068622</td>\n",
       "      <td>0.000644</td>\n",
       "      <td>0.000923</td>\n",
       "      <td>0.093856</td>\n",
       "      <td>0.112979</td>\n",
       "      <td>-0.000037</td>\n",
       "      <td>...</td>\n",
       "      <td>0.351189</td>\n",
       "      <td>0.275642</td>\n",
       "      <td>0.681735</td>\n",
       "      <td>0.251750</td>\n",
       "      <td>0.263402</td>\n",
       "      <td>0.378176</td>\n",
       "      <td>0.505440</td>\n",
       "      <td>1.000000</td>\n",
       "      <td>0.270181</td>\n",
       "      <td>0.424972</td>\n",
       "    </tr>\n",
       "    <tr>\n",
       "      <th>fun5_3</th>\n",
       "      <td>0.100164</td>\n",
       "      <td>-0.046558</td>\n",
       "      <td>-0.067432</td>\n",
       "      <td>-0.050316</td>\n",
       "      <td>0.114254</td>\n",
       "      <td>0.103025</td>\n",
       "      <td>0.105866</td>\n",
       "      <td>0.148984</td>\n",
       "      <td>0.236393</td>\n",
       "      <td>0.043915</td>\n",
       "      <td>...</td>\n",
       "      <td>0.388431</td>\n",
       "      <td>0.172901</td>\n",
       "      <td>0.292684</td>\n",
       "      <td>0.775198</td>\n",
       "      <td>0.336507</td>\n",
       "      <td>0.406725</td>\n",
       "      <td>0.331171</td>\n",
       "      <td>0.270181</td>\n",
       "      <td>1.000000</td>\n",
       "      <td>0.398011</td>\n",
       "    </tr>\n",
       "    <tr>\n",
       "      <th>amb5_3</th>\n",
       "      <td>0.055229</td>\n",
       "      <td>-0.119108</td>\n",
       "      <td>0.055267</td>\n",
       "      <td>-0.118940</td>\n",
       "      <td>0.145598</td>\n",
       "      <td>0.057933</td>\n",
       "      <td>0.110299</td>\n",
       "      <td>0.075472</td>\n",
       "      <td>0.052459</td>\n",
       "      <td>0.044849</td>\n",
       "      <td>...</td>\n",
       "      <td>0.214301</td>\n",
       "      <td>0.146923</td>\n",
       "      <td>0.349938</td>\n",
       "      <td>0.442050</td>\n",
       "      <td>0.610380</td>\n",
       "      <td>0.205368</td>\n",
       "      <td>0.268553</td>\n",
       "      <td>0.424972</td>\n",
       "      <td>0.398011</td>\n",
       "      <td>1.000000</td>\n",
       "    </tr>\n",
       "  </tbody>\n",
       "</table>\n",
       "<p>187 rows × 187 columns</p>\n",
       "</div>"
      ],
      "text/plain": [
       "               iid        id    gender       idg    condtn      wave  \\\n",
       "iid       1.000000  0.117109  0.051937  0.120362  0.220413  0.996713   \n",
       "id        0.117109  1.000000 -0.011623  0.998029  0.318768  0.091571   \n",
       "gender    0.051937 -0.011623  1.000000  0.033645 -0.002627 -0.001264   \n",
       "idg       0.120362  0.998029  0.033645  1.000000  0.324838  0.092645   \n",
       "condtn    0.220413  0.318768 -0.002627  0.324838  1.000000  0.219627   \n",
       "...            ...       ...       ...       ...       ...       ...   \n",
       "attr5_3   0.092325 -0.018183 -0.103692 -0.020785  0.068552  0.092906   \n",
       "sinc5_3  -0.053698 -0.007993 -0.289694 -0.022967 -0.063407 -0.028111   \n",
       "intel5_3  0.006949 -0.088398  0.076538 -0.086071  0.068622  0.000644   \n",
       "fun5_3    0.100164 -0.046558 -0.067432 -0.050316  0.114254  0.103025   \n",
       "amb5_3    0.055229 -0.119108  0.055267 -0.118940  0.145598  0.057933   \n",
       "\n",
       "             round  position  positin1     order  ...   attr3_3   sinc3_3  \\\n",
       "iid       0.231881  0.081287  0.070443  0.090696  ... -0.003738 -0.005157   \n",
       "id        0.374462  0.168382  0.174008  0.149216  ...  0.024213 -0.041815   \n",
       "gender    0.020630 -0.001091  0.005853  0.006685  ... -0.125433 -0.159709   \n",
       "idg       0.387715  0.171495  0.177639  0.154691  ...  0.020597 -0.051671   \n",
       "condtn    0.816316  0.329120  0.308641  0.324108  ...  0.082965  0.034376   \n",
       "...            ...       ...       ...       ...  ...       ...       ...   \n",
       "attr5_3   0.025047  0.073360  0.201356  0.009776  ...  0.851922  0.177047   \n",
       "sinc5_3  -0.027437  0.099616  0.102406 -0.010260  ...  0.222731  0.614853   \n",
       "intel5_3  0.000923  0.093856  0.112979 -0.000037  ...  0.351189  0.275642   \n",
       "fun5_3    0.105866  0.148984  0.236393  0.043915  ...  0.388431  0.172901   \n",
       "amb5_3    0.110299  0.075472  0.052459  0.044849  ...  0.214301  0.146923   \n",
       "\n",
       "          intel3_3    fun3_3    amb3_3   attr5_3   sinc5_3  intel5_3  \\\n",
       "iid      -0.117348  0.039944 -0.020409  0.092325 -0.053698  0.006949   \n",
       "id       -0.051621 -0.029917  0.010202 -0.018183 -0.007993 -0.088398   \n",
       "gender    0.023925 -0.144642 -0.058300 -0.103692 -0.289694  0.076538   \n",
       "idg      -0.051081 -0.036368  0.007404 -0.020785 -0.022967 -0.086071   \n",
       "condtn    0.067836  0.066229  0.023614  0.068552 -0.063407  0.068622   \n",
       "...            ...       ...       ...       ...       ...       ...   \n",
       "attr5_3   0.444624  0.400945  0.222258  1.000000  0.197948  0.378176   \n",
       "sinc5_3   0.313755  0.184837  0.130029  0.197948  1.000000  0.505440   \n",
       "intel5_3  0.681735  0.251750  0.263402  0.378176  0.505440  1.000000   \n",
       "fun5_3    0.292684  0.775198  0.336507  0.406725  0.331171  0.270181   \n",
       "amb5_3    0.349938  0.442050  0.610380  0.205368  0.268553  0.424972   \n",
       "\n",
       "            fun5_3    amb5_3  \n",
       "iid       0.100164  0.055229  \n",
       "id       -0.046558 -0.119108  \n",
       "gender   -0.067432  0.055267  \n",
       "idg      -0.050316 -0.118940  \n",
       "condtn    0.114254  0.145598  \n",
       "...            ...       ...  \n",
       "attr5_3   0.406725  0.205368  \n",
       "sinc5_3   0.331171  0.268553  \n",
       "intel5_3  0.270181  0.424972  \n",
       "fun5_3    1.000000  0.398011  \n",
       "amb5_3    0.398011  1.000000  \n",
       "\n",
       "[187 rows x 187 columns]"
      ]
     },
     "execution_count": 7,
     "metadata": {},
     "output_type": "execute_result"
    }
   ],
   "source": [
    "corr = data.corr()\n",
    "corr"
   ]
  },
  {
   "cell_type": "code",
   "execution_count": 12,
   "metadata": {},
   "outputs": [
    {
     "data": {
      "text/plain": [
       "Index(['iid', 'id', 'gender', 'idg', 'condtn', 'wave', 'round', 'position',\n",
       "       'positin1', 'order',\n",
       "       ...\n",
       "       'attr3_3', 'sinc3_3', 'intel3_3', 'fun3_3', 'amb3_3', 'attr5_3',\n",
       "       'sinc5_3', 'intel5_3', 'fun5_3', 'amb5_3'],\n",
       "      dtype='object', length=195)"
      ]
     },
     "execution_count": 12,
     "metadata": {},
     "output_type": "execute_result"
    }
   ],
   "source": [
    "data.columns"
   ]
  },
  {
   "cell_type": "code",
   "execution_count": 14,
   "metadata": {},
   "outputs": [
    {
     "data": {
      "text/plain": [
       "0    6998\n",
       "1    1380\n",
       "Name: match, dtype: int64"
      ]
     },
     "execution_count": 14,
     "metadata": {},
     "output_type": "execute_result"
    }
   ],
   "source": [
    "data['match'].value_counts()"
   ]
  },
  {
   "cell_type": "code",
   "execution_count": 57,
   "metadata": {},
   "outputs": [
    {
     "data": {
      "text/plain": [
       "match      1.000000\n",
       "dec_o      0.522326\n",
       "dec        0.521943\n",
       "like_o     0.305853\n",
       "like       0.305723\n",
       "             ...   \n",
       "id         0.000770\n",
       "idg        0.000544\n",
       "gender     0.000530\n",
       "theater    0.000087\n",
       "amb2_1     0.000028\n",
       "Name: match, Length: 187, dtype: float64"
      ]
     },
     "execution_count": 57,
     "metadata": {},
     "output_type": "execute_result"
    }
   ],
   "source": [
    "pd.options.display.max_rows = 30\n",
    "a = data.corr()\n",
    "abs(a['match']).sort_values(ascending = False)"
   ]
  },
  {
   "cell_type": "code",
   "execution_count": 66,
   "metadata": {
    "scrolled": true
   },
   "outputs": [
    {
     "name": "stdout",
     "output_type": "stream",
     "text": [
      "['match', 'dec_o', 'dec', 'like_o', 'like']\n"
     ]
    }
   ],
   "source": [
    "list_top = list(abs(a['match']).sort_values(ascending = False).index[0:5])\n",
    "print(list_top)"
   ]
  },
  {
   "cell_type": "code",
   "execution_count": 67,
   "metadata": {},
   "outputs": [
    {
     "data": {
      "text/html": [
       "<div>\n",
       "<style scoped>\n",
       "    .dataframe tbody tr th:only-of-type {\n",
       "        vertical-align: middle;\n",
       "    }\n",
       "\n",
       "    .dataframe tbody tr th {\n",
       "        vertical-align: top;\n",
       "    }\n",
       "\n",
       "    .dataframe thead th {\n",
       "        text-align: right;\n",
       "    }\n",
       "</style>\n",
       "<table border=\"1\" class=\"dataframe\">\n",
       "  <thead>\n",
       "    <tr style=\"text-align: right;\">\n",
       "      <th></th>\n",
       "      <th>match</th>\n",
       "      <th>dec_o</th>\n",
       "      <th>dec</th>\n",
       "      <th>like_o</th>\n",
       "      <th>like</th>\n",
       "    </tr>\n",
       "  </thead>\n",
       "  <tbody>\n",
       "    <tr>\n",
       "      <th>0</th>\n",
       "      <td>0</td>\n",
       "      <td>0</td>\n",
       "      <td>1</td>\n",
       "      <td>7.0</td>\n",
       "      <td>7.0</td>\n",
       "    </tr>\n",
       "    <tr>\n",
       "      <th>1</th>\n",
       "      <td>0</td>\n",
       "      <td>0</td>\n",
       "      <td>1</td>\n",
       "      <td>8.0</td>\n",
       "      <td>7.0</td>\n",
       "    </tr>\n",
       "    <tr>\n",
       "      <th>2</th>\n",
       "      <td>1</td>\n",
       "      <td>1</td>\n",
       "      <td>1</td>\n",
       "      <td>10.0</td>\n",
       "      <td>7.0</td>\n",
       "    </tr>\n",
       "    <tr>\n",
       "      <th>3</th>\n",
       "      <td>1</td>\n",
       "      <td>1</td>\n",
       "      <td>1</td>\n",
       "      <td>7.0</td>\n",
       "      <td>7.0</td>\n",
       "    </tr>\n",
       "    <tr>\n",
       "      <th>4</th>\n",
       "      <td>1</td>\n",
       "      <td>1</td>\n",
       "      <td>1</td>\n",
       "      <td>8.0</td>\n",
       "      <td>6.0</td>\n",
       "    </tr>\n",
       "  </tbody>\n",
       "</table>\n",
       "</div>"
      ],
      "text/plain": [
       "   match  dec_o  dec  like_o  like\n",
       "0      0      0    1     7.0   7.0\n",
       "1      0      0    1     8.0   7.0\n",
       "2      1      1    1    10.0   7.0\n",
       "3      1      1    1     7.0   7.0\n",
       "4      1      1    1     8.0   6.0"
      ]
     },
     "execution_count": 67,
     "metadata": {},
     "output_type": "execute_result"
    }
   ],
   "source": [
    "data2 = data[list_top]\n",
    "data2.head()"
   ]
  },
  {
   "cell_type": "code",
   "execution_count": 68,
   "metadata": {},
   "outputs": [
    {
     "data": {
      "text/plain": [
       "<matplotlib.axes._subplots.AxesSubplot at 0x2301d21d708>"
      ]
     },
     "execution_count": 68,
     "metadata": {},
     "output_type": "execute_result"
    },
    {
     "data": {
      "image/png": "[encoded data removed]",
      "text/plain": [
       "<Figure size 1440x720 with 2 Axes>"
      ]
     },
     "metadata": {
      "needs_background": "light"
     },
     "output_type": "display_data"
    }
   ],
   "source": [
    "corr = data2.corr()\n",
    "plt.subplots(figsize = (20, 10))\n",
    "sns.heatmap(corr, annot = True)"
   ]
  },
  {
   "cell_type": "markdown",
   "metadata": {},
   "source": [
    "### Visualisation"
   ]
  },
  {
   "cell_type": "code",
   "execution_count": 71,
   "metadata": {},
   "outputs": [
    {
     "data": {
      "text/plain": [
       "<matplotlib.axes._subplots.AxesSubplot at 0x23072c63e48>"
      ]
     },
     "execution_count": 71,
     "metadata": {},
     "output_type": "execute_result"
    },
    {
     "data": {
      "image/png": "[encoded data removed]",
      "text/plain": [
       "<Figure size 432x288 with 1 Axes>"
      ]
     },
     "metadata": {
      "needs_background": "light"
     },
     "output_type": "display_data"
    }
   ],
   "source": [
    "sns.countplot(data2['dec'])"
   ]
  },
  {
   "cell_type": "code",
   "execution_count": null,
   "metadata": {},
   "outputs": [],
   "source": []
  },
  {
   "cell_type": "code",
   "execution_count": null,
   "metadata": {},
   "outputs": [],
   "source": []
  },
  {
   "cell_type": "code",
   "execution_count": null,
   "metadata": {},
   "outputs": [],
   "source": []
  },
  {
   "cell_type": "code",
   "execution_count": null,
   "metadata": {},
   "outputs": [],
   "source": []
  },
  {
   "cell_type": "code",
   "execution_count": null,
   "metadata": {},
   "outputs": [],
   "source": []
  },
  {
   "cell_type": "code",
   "execution_count": null,
   "metadata": {},
   "outputs": [],
   "source": []
  },
  {
   "cell_type": "code",
   "execution_count": null,
   "metadata": {},
   "outputs": [],
   "source": []
  },
  {
   "cell_type": "code",
   "execution_count": null,
   "metadata": {},
   "outputs": [],
   "source": []
  },
  {
   "cell_type": "code",
   "execution_count": null,
   "metadata": {},
   "outputs": [],
   "source": []
  },
  {
   "cell_type": "code",
   "execution_count": null,
   "metadata": {},
   "outputs": [],
   "source": []
  },
  {
   "cell_type": "code",
   "execution_count": null,
   "metadata": {},
   "outputs": [],
   "source": []
  }
 ],
 "metadata": {
  "kernelspec": {
   "display_name": "Python 3",
   "language": "python",
   "name": "python3"
  },
  "language_info": {
   "codemirror_mode": {
    "name": "ipython",
    "version": 3
   },
   "file_extension": ".py",
   "mimetype": "text/x-python",
   "name": "python",
   "nbconvert_exporter": "python",
   "pygments_lexer": "ipython3",
   "version": "3.7.6"
  }
 },
 "nbformat": 4,
 "nbformat_minor": 4
}
